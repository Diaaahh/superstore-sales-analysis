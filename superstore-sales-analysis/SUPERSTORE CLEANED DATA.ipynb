{
 "cells": [
  {
   "cell_type": "code",
   "execution_count": 24,
   "id": "e08c2330-57fc-4c8f-9ce4-4b0b570dac53",
   "metadata": {},
   "outputs": [],
   "source": [
    "import pandas as pd\n",
    "df = pd.read_csv(r\"C:\\Users\\HP\\OneDrive\\Desktop\\ENTRI\\New folder\\Sample - Superstore.csv\", encoding='latin1')"
   ]
  },
  {
   "cell_type": "code",
   "execution_count": 26,
   "id": "a2243ff9-69cc-4c95-802b-693249102250",
   "metadata": {
    "scrolled": true
   },
   "outputs": [
    {
     "name": "stdout",
     "output_type": "stream",
     "text": [
      "Initial shape: (9994, 21)\n",
      "\n",
      "Missing values:\n",
      " Row ID           0\n",
      "Order ID         0\n",
      "Order Date       0\n",
      "Ship Date        0\n",
      "Ship Mode        0\n",
      "Customer ID      0\n",
      "Customer Name    0\n",
      "Segment          0\n",
      "Country          0\n",
      "City             0\n",
      "State            0\n",
      "Postal Code      0\n",
      "Region           0\n",
      "Product ID       0\n",
      "Category         0\n",
      "Sub-Category     0\n",
      "Product Name     0\n",
      "Sales            0\n",
      "Quantity         0\n",
      "Discount         0\n",
      "Profit           0\n",
      "dtype: int64\n"
     ]
    }
   ],
   "source": [
    "print(\"Initial shape:\", df.shape)\n",
    "print(\"\\nMissing values:\\n\", df.isnull().sum())"
   ]
  },
  {
   "cell_type": "code",
   "execution_count": 28,
   "id": "d597ae24-7523-4d5e-93db-67e73b1b3042",
   "metadata": {},
   "outputs": [
    {
     "name": "stdout",
     "output_type": "stream",
     "text": [
      "After removing duplicates: (9994, 21)\n"
     ]
    }
   ],
   "source": [
    "df = df.drop_duplicates()\n",
    "print(\"After removing duplicates:\", df.shape)"
   ]
  },
  {
   "cell_type": "code",
   "execution_count": 30,
   "id": "62a57605-5df7-4a4e-9e8c-346a8f821be6",
   "metadata": {},
   "outputs": [
    {
     "name": "stdout",
     "output_type": "stream",
     "text": [
      "\n",
      "Data types:\n",
      " Row ID             int64\n",
      "Order ID          object\n",
      "Order Date        object\n",
      "Ship Date         object\n",
      "Ship Mode         object\n",
      "Customer ID       object\n",
      "Customer Name     object\n",
      "Segment           object\n",
      "Country           object\n",
      "City              object\n",
      "State             object\n",
      "Postal Code        int64\n",
      "Region            object\n",
      "Product ID        object\n",
      "Category          object\n",
      "Sub-Category      object\n",
      "Product Name      object\n",
      "Sales            float64\n",
      "Quantity           int64\n",
      "Discount         float64\n",
      "Profit           float64\n",
      "dtype: object\n"
     ]
    }
   ],
   "source": [
    "print(\"\\nData types:\\n\", df.dtypes)"
   ]
  },
  {
   "cell_type": "code",
   "execution_count": 36,
   "id": "cd16fdd9-2d21-4c1d-99fa-d4cf09b84fc1",
   "metadata": {
    "scrolled": true
   },
   "outputs": [],
   "source": [
    "df['Order Date'] = pd.to_datetime(df['Order Date'], dayfirst=True)\n",
    "df['Ship Date'] = pd.to_datetime(df['Ship Date'], dayfirst=True)\n",
    "df['Order Date'] = pd.to_datetime(df['Order Date'])\n",
    "df['Ship Date'] = pd.to_datetime(df['Ship Date'])\n"
   ]
  },
  {
   "cell_type": "code",
   "execution_count": 38,
   "id": "d88d3f17-a496-44c0-a5af-f087c3d29480",
   "metadata": {},
   "outputs": [],
   "source": [
    "df = df.dropna()"
   ]
  },
  {
   "cell_type": "code",
   "execution_count": 40,
   "id": "4a7c9bf8-2903-4b9d-a017-ff3cbc690cb7",
   "metadata": {},
   "outputs": [],
   "source": [
    "columns_to_drop = ['Row ID', 'Customer Name', 'Country', 'Postal Code']\n",
    "df.drop(columns=columns_to_drop, inplace=True, errors='ignore')"
   ]
  },
  {
   "cell_type": "code",
   "execution_count": 42,
   "id": "486ed4eb-bfc7-404d-bdf7-e1e112c731bd",
   "metadata": {},
   "outputs": [],
   "source": [
    "from sklearn.preprocessing import LabelEncoder\n",
    "le = LabelEncoder()\n",
    "\n",
    "categorical_cols = df.select_dtypes(include='object').columns\n",
    "for col in categorical_cols:\n",
    "    df[col] = le.fit_transform(df[col])\n"
   ]
  },
  {
   "cell_type": "code",
   "execution_count": 44,
   "id": "31f66ca3-5e3a-4e2d-a61d-9e384345b200",
   "metadata": {},
   "outputs": [
    {
     "name": "stdout",
     "output_type": "stream",
     "text": [
      "\n",
      "Cleaned data shape: (9994, 17)\n",
      "\n",
      "Sample data:\n",
      "    Order ID Order Date  Ship Date  Ship Mode  Customer ID  Segment  City  \\\n",
      "0      2500 2016-11-08 2016-11-11          2          143        0   194   \n",
      "1      2500 2016-11-08 2016-11-11          2          143        0   194   \n",
      "2      2296 2016-06-12 2016-06-16          2          237        1   266   \n",
      "3      4372 2015-10-11 2015-10-18          3          705        0   153   \n",
      "4      4372 2015-10-11 2015-10-18          3          705        0   153   \n",
      "\n",
      "   State  Region  Product ID  Category  Sub-Category  Product Name     Sales  \\\n",
      "0     15       2          12         0             4           386  261.9600   \n",
      "1     15       2          55         0             5           839  731.9400   \n",
      "2      3       3         946         1            10          1433   14.6200   \n",
      "3      8       2         319         0            16           366  957.5775   \n",
      "4      8       2        1316         1            14           573   22.3680   \n",
      "\n",
      "   Quantity  Discount    Profit  \n",
      "0         2      0.00   41.9136  \n",
      "1         3      0.00  219.5820  \n",
      "2         2      0.00    6.8714  \n",
      "3         5      0.45 -383.0310  \n",
      "4         2      0.20    2.5164  \n"
     ]
    }
   ],
   "source": [
    "print(\"\\nCleaned data shape:\", df.shape)\n",
    "print(\"\\nSample data:\\n\", df.head())\n",
    "\n"
   ]
  },
  {
   "cell_type": "code",
   "execution_count": 50,
   "id": "cfb03ff8-cc9c-40ca-8781-ed14ac4b7d8b",
   "metadata": {},
   "outputs": [
    {
     "name": "stdout",
     "output_type": "stream",
     "text": [
      "\n",
      "✅ Cleaned data saved to 'PROJECT.DIYA/cleaned_data.csv'\n"
     ]
    }
   ],
   "source": [
    "import os\n",
    "\n",
    "# Create the 'PROJECT.DIYA' folder if it doesn't exist\n",
    "os.makedirs(\"PROJECT.DIYA\", exist_ok=True)\n",
    "\n",
    "# Now save the cleaned data\n",
    "df.to_csv(\"PROJECT.DIYA/cleaned_data.csv\", index=False)\n",
    "print(\"\\n✅ Cleaned data saved to 'PROJECT.DIYA/cleaned_data.csv'\")"
   ]
  }
 ],
 "metadata": {
  "kernelspec": {
   "display_name": "Python [conda env:base] *",
   "language": "python",
   "name": "conda-base-py"
  },
  "language_info": {
   "codemirror_mode": {
    "name": "ipython",
    "version": 3
   },
   "file_extension": ".py",
   "mimetype": "text/x-python",
   "name": "python",
   "nbconvert_exporter": "python",
   "pygments_lexer": "ipython3",
   "version": "3.12.7"
  }
 },
 "nbformat": 4,
 "nbformat_minor": 5
}
